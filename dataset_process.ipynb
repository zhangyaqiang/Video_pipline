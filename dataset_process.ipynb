{
 "cells": [
  {
   "cell_type": "code",
   "execution_count": 1,
   "metadata": {},
   "outputs": [],
   "source": [
    "import subprocess\n",
    "import glob\n",
    "import os\n",
    "import time"
   ]
  },
  {
   "cell_type": "code",
   "execution_count": 106,
   "metadata": {},
   "outputs": [],
   "source": [
    "video_dir = '/home/zyq/video_pipline_data/zwtx2017'"
   ]
  },
  {
   "cell_type": "code",
   "execution_count": 107,
   "metadata": {},
   "outputs": [],
   "source": [
    "video_list = glob.glob(os.path.join(video_dir, '*mp4'))"
   ]
  },
  {
   "cell_type": "code",
   "execution_count": 108,
   "metadata": {},
   "outputs": [],
   "source": [
    "def chang_name(video_list):\n",
    "    for video in video_list:\n",
    "        video_name = os.path.join(video_dir, os.path.basename(video)[-16:])\n",
    "        subprocess.Popen(('mv',\n",
    "                        video,\n",
    "                        video_name))"
   ]
  },
  {
   "cell_type": "code",
   "execution_count": 5,
   "metadata": {},
   "outputs": [],
   "source": [
    "data_dir = '/home/zyq/video_pipline_data/shots'"
   ]
  },
  {
   "cell_type": "code",
   "execution_count": 6,
   "metadata": {},
   "outputs": [],
   "source": [
    "video_list = glob.glob(os.path.join(data_dir, \"201*\"))"
   ]
  },
  {
   "cell_type": "code",
   "execution_count": 7,
   "metadata": {},
   "outputs": [
    {
     "name": "stdout",
     "output_type": "stream",
     "text": [
      "1022\n",
      "16433\n"
     ]
    }
   ],
   "source": [
    "def label_num(video_list):    \n",
    "    sum = 0\n",
    "    for video in video_list:\n",
    "        shot_list = glob.glob(os.path.join(video, \"shot*\"))\n",
    "        for shot in shot_list:\n",
    "            finaldata = glob.glob(os.path.join(shot, \"finaldata\"))\n",
    "            if len(finaldata) == 0: continue\n",
    "            else:\n",
    "                dataset = glob.glob(os.path.join(finaldata[0], \"data*\"))\n",
    "                sum += len(dataset)\n",
    "    print(len(video_list))\n",
    "    print(sum)"
   ]
  },
  {
   "cell_type": "code",
   "execution_count": 98,
   "metadata": {},
   "outputs": [
    {
     "data": {
      "text/plain": [
       "3740"
      ]
     },
     "execution_count": 98,
     "metadata": {},
     "output_type": "execute_result"
    }
   ],
   "source": [
    "data_dir = '/home/zyq/video_pipline_data/dataset/xwlb_dataset'\n",
    "video_list = glob.glob(os.path.join(data_dir, \"*\"))\n",
    "def check_label(video_list):\n",
    "    for video in video_list:\n",
    "        shot_list = glob.glob(os.path.join(video, \"shot*\"))\n",
    "        for shot in shot_list:\n",
    "            finaldatas = glob.glob(os.path.join(shot, \"finaldata\"))\n",
    "            if len(finaldatas) == 0: continue\n",
    "            else:\n",
    "                for finaldata in finaldatas:\n",
    "                    datasets = glob.glob(os.path.join(finaldata, \"data*\"))\n",
    "                    for dataset in datasets:\n",
    "                        label_path = glob.glob(os.path.join(dataset, \"*.align\"))[0]\n",
    "                        f = open(label_path, 'r', encoding='utf-8')\n",
    "                        lines = f.readlines()\n",
    "                        f.close()\n",
    "                        subprocess.Popen(('rm', label_path))\n",
    "                        time.sleep(0.1)\n",
    "                        f = open(label_path, 'w', encoding='utf-8')\n",
    "                        for line in lines:\n",
    "                            if line[-2] == 'l' and line[-5] != ' ':\n",
    "                                line = line[:-4] + ' ' + line[-4:]\n",
    "                            if line[-2] != 'l' and line[-3] != ' ':\n",
    "                                line = line[:-2] + ' ' + line[-2:]\n",
    "                            f.write(line)\n",
    "                        f.close()"
   ]
  },
  {
   "cell_type": "code",
   "execution_count": 25,
   "metadata": {},
   "outputs": [],
   "source": [
    "dataset_avi_dir = '/home/zyq/video_pipline_data/dataset/dataset_avi'\n",
    "dataset_mp4_dir = '/home/zyq/video_pipline_data/dataset/dataset_mp4'\n",
    "dataset_wav_dir = '/home/zyq/video_pipline_data/dataset/dataset_wav'\n",
    "dataset_label_dir = '/home/zyq/video_pipline_data/dataset/dataset_label'\n",
    "data_dir = '/home/zyq/video_pipline_data/dataset/xwlb_dataset'\n",
    "def split_dataset(data_dir):\n",
    "    video_list = glob.glob(os.path.join(data_dir, \"*\"))\n",
    "    dataset_num = 0\n",
    "    for video in video_list:\n",
    "            shot_list = glob.glob(os.path.join(video, \"shot*\"))\n",
    "            for shot in shot_list:\n",
    "                finaldatas = glob.glob(os.path.join(shot, \"finaldata\"))\n",
    "                if len(finaldatas) == 0: continue\n",
    "                else:\n",
    "                    for finaldata in finaldatas:\n",
    "                        datasets = glob.glob(os.path.join(finaldata, \"data*\"))\n",
    "                        for dataset in datasets:\n",
    "                            label_path = glob.glob(os.path.join(dataset, \"*.align\"))\n",
    "                            mp4_path = glob.glob(os.path.join(dataset, \"*.mp4\"))\n",
    "                            avi_path = glob.glob(os.path.join(dataset, \"*avi\"))\n",
    "                            wav_path = glob.glob(os.path.join(dataset, \"*.wav\"))\n",
    "                            if len(label_path) == 0 or len(mp4_path) == 0 or len(avi_path) == 0 or len(wav_path) == 0:\n",
    "                                print(dataset+\"lack something!!!!!!\")\n",
    "                                continue\n",
    "                            label_path = label_path[0]\n",
    "                            mp4_path = mp4_path[0]\n",
    "                            avi_path = avi_path[0]\n",
    "                            wav_path = wav_path[0]\n",
    "                            dataset_mp4_path = os.path.join(dataset_mp4_dir, str(dataset_num).zfill(7) + \".mp4\")\n",
    "                            dataset_label_path = os.path.join(dataset_label_dir, str(dataset_num).zfill(7) + \".align\")\n",
    "                            dataset_wav_path = os.path.join(dataset_wav_dir, str(dataset_num).zfill(7) + \".wav\")\n",
    "                            dataset_avi_path = os.path.join(dataset_avi_dir, str(dataset_num).zfill(7) + \".avi\")\n",
    "                            subprocess.Popen(('cp', label_path, dataset_label_path))\n",
    "                            subprocess.Popen(('cp', mp4_path, dataset_mp4_path))            \n",
    "                            subprocess.Popen(('cp', wav_path, dataset_wav_path))            \n",
    "                            subprocess.Popen(('cp', avi_path, dataset_avi_path))            \n",
    "                            dataset_num += 1"
   ]
  },
  {
   "cell_type": "code",
   "execution_count": 26,
   "metadata": {},
   "outputs": [
    {
     "name": "stdout",
     "output_type": "stream",
     "text": [
      "/home/zyq/video_pipline_data/dataset/xwlb_dataset/201508031900/shot_0081/finaldata/data_0lack something!!!!!!\n",
      "/home/zyq/video_pipline_data/dataset/xwlb_dataset/201412072100/shot_0086/finaldata/data_1lack something!!!!!!\n",
      "/home/zyq/video_pipline_data/dataset/xwlb_dataset/201707111900/shot_0002/finaldata/data_0lack something!!!!!!\n",
      "/home/zyq/video_pipline_data/dataset/xwlb_dataset/201504121900/shot_0043/finaldata/data_0lack something!!!!!!\n",
      "/home/zyq/video_pipline_data/dataset/xwlb_dataset/201610062100/shot_0041/finaldata/data_2lack something!!!!!!\n",
      "/home/zyq/video_pipline_data/dataset/xwlb_dataset/201512181900/shot_0104/finaldata/data_1lack something!!!!!!\n",
      "/home/zyq/video_pipline_data/dataset/xwlb_dataset/201510062100/shot_0070/finaldata/data_0lack something!!!!!!\n",
      "/home/zyq/video_pipline_data/dataset/xwlb_dataset/201507031900/shot_0124/finaldata/data_1lack something!!!!!!\n",
      "/home/zyq/video_pipline_data/dataset/xwlb_dataset/201507031900/shot_0180/finaldata/data_0lack something!!!!!!\n",
      "/home/zyq/video_pipline_data/dataset/xwlb_dataset/201507121900/shot_0037/finaldata/data_0lack something!!!!!!\n",
      "/home/zyq/video_pipline_data/dataset/xwlb_dataset/201608272100/shot_0097/finaldata/data_0lack something!!!!!!\n",
      "/home/zyq/video_pipline_data/dataset/xwlb_dataset/201511191900/shot_0076/finaldata/data_1lack something!!!!!!\n",
      "/home/zyq/video_pipline_data/dataset/xwlb_dataset/201411061900/shot_0087/finaldata/data_0lack something!!!!!!\n",
      "/home/zyq/video_pipline_data/dataset/xwlb_dataset/201703011900/shot_0080/finaldata/data_0lack something!!!!!!\n",
      "/home/zyq/video_pipline_data/dataset/xwlb_dataset/201601221900/shot_0108/finaldata/data_0lack something!!!!!!\n",
      "/home/zyq/video_pipline_data/dataset/xwlb_dataset/201501281900/shot_0105/finaldata/data_2lack something!!!!!!\n",
      "/home/zyq/video_pipline_data/dataset/xwlb_dataset/201505311900/shot_0032/finaldata/data_0lack something!!!!!!\n",
      "/home/zyq/video_pipline_data/dataset/xwlb_dataset/201701062100/shot_0085/finaldata/data_1lack something!!!!!!\n",
      "/home/zyq/video_pipline_data/dataset/xwlb_dataset/201608192100/shot_0116/finaldata/data_1lack something!!!!!!\n",
      "/home/zyq/video_pipline_data/dataset/xwlb_dataset/201602072100/shot_0116/finaldata/data_4lack something!!!!!!\n",
      "/home/zyq/video_pipline_data/dataset/xwlb_dataset/201605072100/shot_0030/finaldata/data_1lack something!!!!!!\n",
      "/home/zyq/video_pipline_data/dataset/xwlb_dataset/201708232100/shot_0105/finaldata/data_0lack something!!!!!!\n",
      "/home/zyq/video_pipline_data/dataset/xwlb_dataset/201610282100/shot_0247/finaldata/data_3lack something!!!!!!\n",
      "/home/zyq/video_pipline_data/dataset/xwlb_dataset/201605061900/shot_0102/finaldata/data_1lack something!!!!!!\n",
      "/home/zyq/video_pipline_data/dataset/xwlb_dataset/201704251900/shot_0059/finaldata/data_1lack something!!!!!!\n",
      "/home/zyq/video_pipline_data/dataset/xwlb_dataset/201512202100/shot_0024/finaldata/data_0lack something!!!!!!\n",
      "/home/zyq/video_pipline_data/dataset/xwlb_dataset/201610082100/shot_0108/finaldata/data_3lack something!!!!!!\n",
      "/home/zyq/video_pipline_data/dataset/xwlb_dataset/201701211900/shot_0116/finaldata/data_1lack something!!!!!!\n",
      "/home/zyq/video_pipline_data/dataset/xwlb_dataset/201703031900/shot_0100/finaldata/data_0lack something!!!!!!\n",
      "/home/zyq/video_pipline_data/dataset/xwlb_dataset/201605032100/shot_0126/finaldata/data_1lack something!!!!!!\n",
      "/home/zyq/video_pipline_data/dataset/xwlb_dataset/201603032100/shot_0111/finaldata/data_0lack something!!!!!!\n",
      "/home/zyq/video_pipline_data/dataset/xwlb_dataset/201702021900/shot_0085/finaldata/data_0lack something!!!!!!\n",
      "/home/zyq/video_pipline_data/dataset/xwlb_dataset/201509111900/shot_0065/finaldata/data_2lack something!!!!!!\n"
     ]
    }
   ],
   "source": [
    "split_dataset(data_dir)"
   ]
  },
  {
   "cell_type": "code",
   "execution_count": null,
   "metadata": {},
   "outputs": [],
   "source": []
  }
 ],
 "metadata": {
  "kernelspec": {
   "display_name": "Python 3",
   "language": "python",
   "name": "python3"
  },
  "language_info": {
   "codemirror_mode": {
    "name": "ipython",
    "version": 3
   },
   "file_extension": ".py",
   "mimetype": "text/x-python",
   "name": "python",
   "nbconvert_exporter": "python",
   "pygments_lexer": "ipython3",
   "version": "3.5.2"
  }
 },
 "nbformat": 4,
 "nbformat_minor": 2
}
